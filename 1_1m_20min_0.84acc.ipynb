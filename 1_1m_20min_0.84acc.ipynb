{
 "cells": [
  {
   "cell_type": "code",
   "execution_count": 1,
   "id": "57747c25-22f4-400f-b80f-d3188b00e8e1",
   "metadata": {},
   "outputs": [
    {
     "name": "stderr",
     "output_type": "stream",
     "text": [
      "/usr/lib/python3/dist-packages/scipy/__init__.py:146: UserWarning: A NumPy version >=1.17.3 and <1.25.0 is required for this version of SciPy (detected version 1.26.4\n",
      "  warnings.warn(f\"A NumPy version >={np_minversion} and <{np_maxversion}\"\n",
      "Setting default log level to \"WARN\".\n",
      "To adjust logging level use sc.setLogLevel(newLevel). For SparkR, use setLogLevel(newLevel).\n",
      "25/03/19 23:30:07 WARN NativeCodeLoader: Unable to load native-hadoop library for your platform... using builtin-java classes where applicable\n"
     ]
    }
   ],
   "source": [
    "import json\n",
    "from pyspark.sql import SparkSession\n",
    "from pyspark.sql.functions import col, udf, count\n",
    "from pyspark.sql.types import IntegerType\n",
    "from pyspark.ml.feature import RegexTokenizer, StopWordsRemover, CountVectorizer\n",
    "from pyspark.ml.classification import LogisticRegression\n",
    "from pyspark.ml.evaluation import MulticlassClassificationEvaluator\n",
    "from pyspark.ml import Pipeline\n",
    "import matplotlib.pyplot as plt\n",
    "from vaderSentiment.vaderSentiment import SentimentIntensityAnalyzer\n",
    "import pandas as pd\n",
    "import time\n",
    "\n",
    "# Initialize session\n",
    "spark_session = SparkSession.builder\\\n",
    "    .master(\"spark://192.168.2.156:7077\")\\\n",
    "    .appName(\"project-group-34-1m\")\\\n",
    "    .config(\"spark.executor.memory\", \"8g\")\\\n",
    "    .config(\"spark.driver.memory\", \"8g\")\\\n",
    "    .config(\"spark.executor.cores\", \"2\")\\\n",
    "    .config(\"spark.dynamicAllocation.enabled\", True)\\\n",
    "    .config(\"spark.dynamicAllocation.shuffleTracking.enabled\", True)\\\n",
    "    .config(\"spark.shuffle.service.enabled\", False)\\\n",
    "    .config(\"spark.dynamicAllocation.executorIdleTimeout\", \"30s\")\\\n",
    "    .config(\"spark.driver.host\", \"192.168.2.162\")\\\n",
    "    .config(\"spark.cores.max\", 8)\\\n",
    "    .getOrCreate()\n",
    "\n",
    "spark_context = spark_session.sparkContext\n",
    "spark_context.setLogLevel(\"ERROR\")"
   ]
  },
  {
   "cell_type": "code",
   "execution_count": 2,
   "id": "2bf113fb-e3e1-472f-9eb1-0ae3c685a6a7",
   "metadata": {},
   "outputs": [
    {
     "name": "stderr",
     "output_type": "stream",
     "text": [
      "                                                                                "
     ]
    },
    {
     "name": "stdout",
     "output_type": "stream",
     "text": [
      "+--------------------+\n",
      "|             summary|\n",
      "+--------------------+\n",
      "|Stop trying to pi...|\n",
      "|You aren't really...|\n",
      "|is: the galaxy is...|\n",
      "|Big ships are not...|\n",
      "|No fuck you read it.|\n",
      "+--------------------+\n",
      "only showing top 5 rows\n",
      "\n",
      "of total 1000000 rows\n",
      "Preprocessing time: 2 minutes (96 seconds)\n"
     ]
    }
   ],
   "source": [
    "# PREPROCESSING\n",
    "start_total = time.time()\n",
    "start_pre = time.time()\n",
    "\n",
    "# Read data\n",
    "df = spark_session.read.json(\"hdfs://192.168.2.156:9000/data/reddit/corpus-webis-tldr-17.json\")\\\n",
    "    .select(\"summary\")\\\n",
    "    .filter(col(\"summary\").isNotNull())\\\n",
    "    .limit(1000000)\n",
    "\n",
    "# Show dataframe and total filtered rows\n",
    "df = df.cache()\n",
    "df.show(5)\n",
    "print(f\"of total {df.count()} rows\")\n",
    "\n",
    "# Print preprocessing time\n",
    "end_pre = time.time()\n",
    "time_pre = end_pre-start_pre\n",
    "print(f\"Preprocessing time: {round((time_pre)/60)} minutes ({round(time_pre)} seconds)\")"
   ]
  },
  {
   "cell_type": "code",
   "execution_count": 3,
   "id": "6cf9414e-7d20-4a7a-a53a-9697a13eb258",
   "metadata": {},
   "outputs": [
    {
     "name": "stderr",
     "output_type": "stream",
     "text": [
      "[Stage 8:>                                                          (0 + 1) / 1]"
     ]
    },
    {
     "name": "stdout",
     "output_type": "stream",
     "text": [
      "+--------------------+---------+\n",
      "|             summary|sentiment|\n",
      "+--------------------+---------+\n",
      "|Stop trying to pi...|        0|\n",
      "|You aren't really...|        2|\n",
      "|is: the galaxy is...|        2|\n",
      "|Big ships are not...|        1|\n",
      "|No fuck you read it.|        2|\n",
      "+--------------------+---------+\n",
      "only showing top 5 rows\n",
      "\n",
      "Labeling time: 4 minutes (234 seconds)\n"
     ]
    },
    {
     "name": "stderr",
     "output_type": "stream",
     "text": [
      "                                                                                "
     ]
    }
   ],
   "source": [
    "# LABELING\n",
    "start_label = time.time()\n",
    "\n",
    "# Add sentiment file to spark cluster\n",
    "spark_context.addPyFile(\"hdfs://192.168.2.162:9000/user/ubuntu/vaderSentiment.zip\")\n",
    "\n",
    "# Analyzer\n",
    "analyzer = SentimentIntensityAnalyzer()\n",
    "\n",
    "# Get sentiment scores\n",
    "def get_sentiment(text):\n",
    "    score = analyzer.polarity_scores(text)[\"compound\"]\n",
    "    return 2 if score > 0.05 else 0 if score < -0.05 else 1\n",
    "\n",
    "# Compute sentiment scores\n",
    "sentiment_udf = udf(get_sentiment, IntegerType())\n",
    "\n",
    "# Store results in new column \n",
    "df = df.withColumn(\"sentiment\", sentiment_udf(col(\"summary\")))\n",
    "df = df.cache()\n",
    "\n",
    "# Show dataframe\n",
    "df.show(5)\n",
    "\n",
    "# Print labeling time\n",
    "end_label = time.time()\n",
    "time_label = end_label-start_label\n",
    "print(f\"Labeling time: {round((time_label)/60)} minutes ({round(time_label)} seconds)\")"
   ]
  },
  {
   "cell_type": "code",
   "execution_count": 4,
   "id": "109bf7ba-5d35-458d-b4f7-02600438deb7",
   "metadata": {},
   "outputs": [
    {
     "data": {
      "image/png": "[encoded data removed]",
      "text/plain": [
       "<Figure size 600x400 with 1 Axes>"
      ]
     },
     "metadata": {},
     "output_type": "display_data"
    }
   ],
   "source": [
    "# Visulize sentiment distribution\n",
    "# Compute sentiment share\n",
    "sentiment_counts = df.groupBy(\"sentiment\").count().toPandas().sort_values(\"sentiment\")\n",
    "sentiment_counts[\"percentage\"] = (sentiment_counts[\"count\"] / sentiment_counts[\"count\"].sum()) * 100\n",
    "\n",
    "# Plot distribution\n",
    "plt.figure(figsize=(6, 4))\n",
    "plt.bar(sentiment_counts[\"sentiment\"], sentiment_counts[\"percentage\"])\n",
    "plt.xticks(sentiment_counts[\"sentiment\"], [\"Negative\", \"Neutral\", \"Positive\"])\n",
    "plt.xlabel(\"Sentiment\")\n",
    "plt.ylabel(\"Percentage\")\n",
    "plt.title(\"Distribution of Sentiment\")\n",
    "plt.show()"
   ]
  },
  {
   "cell_type": "code",
   "execution_count": 5,
   "id": "91e451ac-f87b-44bb-bc54-38e13e006dff",
   "metadata": {},
   "outputs": [
    {
     "name": "stderr",
     "output_type": "stream",
     "text": [
      "[Stage 159:>                                                        (0 + 1) / 1]"
     ]
    },
    {
     "name": "stdout",
     "output_type": "stream",
     "text": [
      "+--------------------+---------+----------+\n",
      "|             summary|sentiment|prediction|\n",
      "+--------------------+---------+----------+\n",
      "|                   0|        1|       1.0|\n",
      "|0 < #femme les < ...|        2|       2.0|\n",
      "|0 <===8      --> ...|        1|       1.0|\n",
      "|0 Knowledge  of p...|        0|       2.0|\n",
      "|0 evidence of any...|        0|       0.0|\n",
      "+--------------------+---------+----------+\n",
      "only showing top 5 rows\n",
      "\n",
      "Training time: 14 minutes (832 seconds)\n",
      "Modeling time: 14 minutes (835 seconds)\n"
     ]
    },
    {
     "name": "stderr",
     "output_type": "stream",
     "text": [
      "                                                                                "
     ]
    }
   ],
   "source": [
    "# MODEL DEVELOPMENT\n",
    "start_model = time.time()\n",
    "\n",
    "# Split lines into words\n",
    "tokenizer = RegexTokenizer(inputCol=\"summary\", outputCol=\"words\", pattern=\"\\\\W\")\n",
    "\n",
    "# Remove stopwords\n",
    "stopwords_remover = StopWordsRemover(inputCol=\"words\", outputCol=\"filtered_words\")\n",
    "\n",
    "# Convert words into numbers\n",
    "vectorizer = CountVectorizer(inputCol=\"filtered_words\", outputCol=\"features\", vocabSize=5000, minDF=5)\n",
    "#vectorizer = CountVectorizer(inputCol=\"words\", outputCol=\"features\", vocabSize=5000, minDF=5)\n",
    "\n",
    "# Define model\n",
    "lr = LogisticRegression(featuresCol=\"features\", labelCol=\"sentiment\")\n",
    "\n",
    "# Create a pipeline\n",
    "pipeline = Pipeline(stages=[tokenizer, stopwords_remover, vectorizer, lr])\n",
    "#pipeline = Pipeline(stages=[tokenizer, vectorizer, lr])\n",
    "\n",
    "# Split data into train and test sets\n",
    "train_data, test_data = df.randomSplit([0.8, 0.2], seed=42)\n",
    "train_data = train_data.cache()\n",
    "test_data = test_data.cache()\n",
    "\n",
    "# Train model\n",
    "start_train = time.time()\n",
    "model = pipeline.fit(train_data)\n",
    "end_train = time.time()\n",
    "\n",
    "# Make predictions\n",
    "predictions = model.transform(test_data)\n",
    "\n",
    "# Show predictions\n",
    "predictions.select(\"summary\", \"sentiment\", \"prediction\").show(5)\n",
    "\n",
    "# Print training and modeling time\n",
    "end_model = time.time()\n",
    "time_model = end_model-start_model\n",
    "time_train = end_train-start_train\n",
    "print(f\"Training time: {round((time_train)/60)} minutes ({round(time_train)} seconds)\")\n",
    "print(f\"Modeling time: {round((time_model)/60)} minutes ({round(time_model)} seconds)\")"
   ]
  },
  {
   "cell_type": "code",
   "execution_count": 6,
   "id": "1bb1dcd3-7188-4d46-ad34-f6f7ae40f2f8",
   "metadata": {},
   "outputs": [
    {
     "name": "stderr",
     "output_type": "stream",
     "text": [
      "                                                                                "
     ]
    },
    {
     "data": {
      "text/plain": [
       "{'Accuracy': 0.8434, 'Precision': 0.8433, 'Recall': 0.8434, 'F1': 0.8429}"
      ]
     },
     "execution_count": 6,
     "metadata": {},
     "output_type": "execute_result"
    }
   ],
   "source": [
    "# MODEL EVALUATION\n",
    "evaluator = MulticlassClassificationEvaluator(labelCol=\"sentiment\", predictionCol=\"prediction\")\n",
    "\n",
    "metrics = {\"Accuracy\": round(evaluator.evaluate(predictions, {evaluator.metricName: \"accuracy\"}), 4),\n",
    "           \"Precision\": round(evaluator.evaluate(predictions, {evaluator.metricName: \"weightedPrecision\"}), 4),\n",
    "           \"Recall\": round(evaluator.evaluate(predictions, {evaluator.metricName: \"weightedRecall\"}), 4),\n",
    "           \"F1\": round(evaluator.evaluate(predictions, {evaluator.metricName: \"f1\"}), 4)}\n",
    "\n",
    "metrics"
   ]
  },
  {
   "cell_type": "code",
   "execution_count": 7,
   "id": "ef263010-8fba-4b95-b3ef-32195adba41b",
   "metadata": {},
   "outputs": [
    {
     "name": "stdout",
     "output_type": "stream",
     "text": [
      "Total execution time: 20 minutes (1200 seconds)\n"
     ]
    }
   ],
   "source": [
    "# Total execution time\n",
    "end_total = time.time()\n",
    "time_total = end_total-start_total\n",
    "print(f\"Total execution time: {round((time_total)/60)} minutes ({round(time_total)} seconds)\")"
   ]
  },
  {
   "cell_type": "code",
   "execution_count": 8,
   "id": "e0c8b135-e8b8-4db2-bd26-a7d1cb6dafd0",
   "metadata": {},
   "outputs": [],
   "source": [
    "# Terminate session\n",
    "spark_session.stop()"
   ]
  }
 ],
 "metadata": {
  "kernelspec": {
   "display_name": "Python 3 (ipykernel)",
   "language": "python",
   "name": "python3"
  },
  "language_info": {
   "codemirror_mode": {
    "name": "ipython",
    "version": 3
   },
   "file_extension": ".py",
   "mimetype": "text/x-python",
   "name": "python",
   "nbconvert_exporter": "python",
   "pygments_lexer": "ipython3",
   "version": "3.10.12"
  }
 },
 "nbformat": 4,
 "nbformat_minor": 5
}
